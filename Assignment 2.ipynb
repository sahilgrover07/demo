{
 "cells": [
  {
   "cell_type": "markdown",
   "metadata": {},
   "source": [
    "# Part 1\n",
    "y = x^2+3x+1"
   ]
  },
  {
   "cell_type": "code",
   "execution_count": 65,
   "metadata": {},
   "outputs": [
    {
     "name": "stdout",
     "output_type": "stream",
     "text": [
      "[[ 13.38466368]\n",
      " [  9.94198427]\n",
      " [-11.38421231]\n",
      " ...\n",
      " [-22.88391702]\n",
      " [-27.84623284]\n",
      " [-40.07471803]]\n",
      "Epoch 1/15\n",
      "500/500 [==============================] - 0s 490us/step - loss: 793191.1540\n",
      "Epoch 2/15\n",
      "500/500 [==============================] - 0s 524us/step - loss: 78119.6701\n",
      "Epoch 3/15\n",
      "500/500 [==============================] - 0s 518us/step - loss: 68836.2122\n",
      "Epoch 4/15\n",
      "500/500 [==============================] - 0s 541us/step - loss: 59050.2150\n",
      "Epoch 5/15\n",
      "500/500 [==============================] - 0s 518us/step - loss: 45858.0052\n",
      "Epoch 6/15\n",
      "500/500 [==============================] - 0s 500us/step - loss: 31419.8616\n",
      "Epoch 7/15\n",
      "500/500 [==============================] - 0s 528us/step - loss: 16514.5593\n",
      "Epoch 8/15\n",
      "500/500 [==============================] - 0s 510us/step - loss: 7081.8713\n",
      "Epoch 9/15\n",
      "500/500 [==============================] - 0s 510us/step - loss: 2723.5434\n",
      "Epoch 10/15\n",
      "500/500 [==============================] - 0s 601us/step - loss: 1164.4239\n",
      "Epoch 11/15\n",
      "500/500 [==============================] - 0s 511us/step - loss: 560.1768\n",
      "Epoch 12/15\n",
      "500/500 [==============================] - 0s 526us/step - loss: 291.1803\n",
      "Epoch 13/15\n",
      "500/500 [==============================] - 0s 578us/step - loss: 173.0875\n",
      "Epoch 14/15\n",
      "500/500 [==============================] - 0s 545us/step - loss: 100.2248\n",
      "Epoch 15/15\n",
      "500/500 [==============================] - 0s 580us/step - loss: 65.6312\n"
     ]
    }
   ],
   "source": [
    "# Import necessary libraries\n",
    "import numpy as np\n",
    "from tensorflow.keras.models import Sequential\n",
    "from tensorflow.keras.layers import Dense\n",
    "\n",
    "# Load training data\n",
    "x =  -50 + np.random.random((25000,1))*100\n",
    "print(x)\n",
    "#define the function\n",
    "y = x**2 + 3*x + 1\n",
    "\n",
    "# Define model\n",
    "model = Sequential()\n",
    "model.add(Dense(40, input_dim=1, activation='relu'))\n",
    "model.add(Dense(20, activation='relu'))\n",
    "model.add(Dense(10, activation='relu'))\n",
    "model.add(Dense(1))\n",
    "model.compile(loss='mean_squared_error', optimizer='adam')\n",
    "model.fit(x, y, epochs=15, batch_size=50)\n",
    "predictions = model.predict(x)"
   ]
  },
  {
   "cell_type": "code",
   "execution_count": 66,
   "metadata": {},
   "outputs": [
    {
     "data": {
      "image/png": "[encoded data removed]",
      "text/plain": [
       "<Figure size 432x288 with 2 Axes>"
      ]
     },
     "metadata": {
      "needs_background": "light"
     },
     "output_type": "display_data"
    }
   ],
   "source": [
    "import matplotlib.pyplot as plt\n",
    "plt.subplot(2, 1, 1)\n",
    "plt.scatter(x, y, s = 1)\n",
    "plt.title('y = $x^2+3x+1$')\n",
    "plt.ylabel('Real y')\n",
    "\n",
    "plt.subplot(2, 1, 2)\n",
    "plt.scatter(x, predictions, s = 1)\n",
    "plt.xlabel('x')\n",
    "plt.ylabel('Approximated y')\n",
    "\n",
    "plt.show()"
   ]
  },
  {
   "cell_type": "code",
   "execution_count": 67,
   "metadata": {},
   "outputs": [
    {
     "name": "stdout",
     "output_type": "stream",
     "text": [
      "Results of sklearn.metrics:\n",
      "MAE: 4.560193495358977\n",
      "MSE: 50.56673071007735\n",
      "RMSE: 7.1110288081315876\n",
      "R-Squared: 0.999910983054719\n"
     ]
    }
   ],
   "source": [
    "import sklearn.metrics as metrics\n",
    "mae = metrics.mean_absolute_error(y, predictions)\n",
    "mse = metrics.mean_squared_error(y, predictions)\n",
    "rmse = np.sqrt(mse) #mse**(0.5)  \n",
    "r2 = metrics.r2_score(y,predictions)\n",
    "\n",
    "print(\"Results of sklearn.metrics:\")\n",
    "print(\"MAE:\",mae)\n",
    "print(\"MSE:\", mse)\n",
    "print(\"RMSE:\", rmse)\n",
    "print(\"R-Squared:\", r2)"
   ]
  },
  {
   "cell_type": "markdown",
   "metadata": {},
   "source": [
    "## Part 2"
   ]
  },
  {
   "cell_type": "code",
   "execution_count": 70,
   "metadata": {},
   "outputs": [
    {
     "name": "stdout",
     "output_type": "stream",
     "text": [
      "Epoch 1/15\n",
      "500/500 [==============================] - 0s 523us/step - loss: 17578518163922.0117\n",
      "Epoch 2/15\n",
      "500/500 [==============================] - 0s 505us/step - loss: 17138292063536.5430\n",
      "Epoch 3/15\n",
      "500/500 [==============================] - 0s 514us/step - loss: 13863845821548.3281\n",
      "Epoch 4/15\n",
      "500/500 [==============================] - 0s 559us/step - loss: 8491323233654.0361\n",
      "Epoch 5/15\n",
      "500/500 [==============================] - 0s 504us/step - loss: 5032934352401.3730\n",
      "Epoch 6/15\n",
      "500/500 [==============================] - 0s 520us/step - loss: 4586387897910.1641\n",
      "Epoch 7/15\n",
      "500/500 [==============================] - 0s 554us/step - loss: 4428847547349.0781\n",
      "Epoch 8/15\n",
      "500/500 [==============================] - 0s 691us/step - loss: 4432480126465.0215\n",
      "Epoch 9/15\n",
      "500/500 [==============================] - 0s 644us/step - loss: 4400705925880.3350\n",
      "Epoch 10/15\n",
      "500/500 [==============================] - 0s 558us/step - loss: 4374933002015.1694\n",
      "Epoch 11/15\n",
      "500/500 [==============================] - 0s 516us/step - loss: 4253636051957.7803\n",
      "Epoch 12/15\n",
      "500/500 [==============================] - 0s 477us/step - loss: 4366313356723.3535\n",
      "Epoch 13/15\n",
      "500/500 [==============================] - 0s 512us/step - loss: 4331768288303.0098\n",
      "Epoch 14/15\n",
      "500/500 [==============================] - 0s 497us/step - loss: 4343172788199.4731\n",
      "Epoch 15/15\n",
      "500/500 [==============================] - 0s 524us/step - loss: 4273529341768.0479\n"
     ]
    }
   ],
   "source": [
    "# Load training data\n",
    "x = -50 + np.random.random((25000,1))*100\n",
    "\n",
    "#define the function\n",
    "y = -2*x**4 - 7*x**3 + x**2 + 6*x - 2\n",
    "\n",
    "# Define model\n",
    "model = Sequential()\n",
    "model.add(Dense(40, input_dim=1, activation='relu'))\n",
    "model.add(Dense(20, activation='relu'))\n",
    "model.add(Dense(10, activation='relu'))\n",
    "model.add(Dense(1))\n",
    "model.compile(loss='mean_squared_error', optimizer='adam')\n",
    "model.fit(x, y, epochs=15, batch_size=50)\n",
    "predictions = model.predict(x)"
   ]
  },
  {
   "cell_type": "code",
   "execution_count": 71,
   "metadata": {},
   "outputs": [
    {
     "data": {
      "image/png": "[encoded data removed]",
      "text/plain": [
       "<Figure size 432x288 with 2 Axes>"
      ]
     },
     "metadata": {
      "needs_background": "light"
     },
     "output_type": "display_data"
    }
   ],
   "source": [
    "import matplotlib.pyplot as plt\n",
    "plt.subplot(2, 1, 1)\n",
    "plt.scatter(x, y, s = 1)\n",
    "plt.title('y = $-2x^4-7x^3+x^2+6x-2$')\n",
    "plt.ylabel('Real y')\n",
    "\n",
    "plt.subplot(2, 1, 2)\n",
    "plt.scatter(x, predictions, s = 1)\n",
    "plt.xlabel('x')\n",
    "plt.ylabel('Approximated y')\n",
    "\n",
    "plt.show()"
   ]
  },
  {
   "cell_type": "code",
   "execution_count": 72,
   "metadata": {},
   "outputs": [
    {
     "name": "stdout",
     "output_type": "stream",
     "text": [
      "Results of sklearn.metrics:\n",
      "MAE: 1705527.148827206\n",
      "MSE: 4278250644140.9927\n",
      "RMSE: 2068393.2518118967\n",
      "R-Squared: 0.6166912049209679\n"
     ]
    }
   ],
   "source": [
    "import sklearn.metrics as metrics\n",
    "mae = metrics.mean_absolute_error(y, predictions)\n",
    "mse = metrics.mean_squared_error(y, predictions)\n",
    "rmse = np.sqrt(mse) #mse**(0.5)  \n",
    "r2 = metrics.r2_score(y,predictions)\n",
    "\n",
    "print(\"Results of sklearn.metrics:\")\n",
    "print(\"MAE:\",mae)\n",
    "print(\"MSE:\", mse)\n",
    "print(\"RMSE:\", rmse)\n",
    "print(\"R-Squared:\", r2)"
   ]
  },
  {
   "cell_type": "code",
   "execution_count": 73,
   "metadata": {},
   "outputs": [
    {
     "name": "stdout",
     "output_type": "stream",
     "text": [
      "Epoch 1/15\n",
      "500/500 [==============================] - 1s 567us/step - loss: 16256018017429.2051\n",
      "Epoch 2/15\n",
      "500/500 [==============================] - 0s 549us/step - loss: 4409027261241.7402\n",
      "Epoch 3/15\n",
      "500/500 [==============================] - 0s 577us/step - loss: 4288291095803.4014\n",
      "Epoch 4/15\n",
      "500/500 [==============================] - 0s 622us/step - loss: 4294943502638.4990\n",
      "Epoch 5/15\n",
      "500/500 [==============================] - 0s 632us/step - loss: 4194566444340.6309\n",
      "Epoch 6/15\n",
      "500/500 [==============================] - 0s 677us/step - loss: 4167523569361.5010\n",
      "Epoch 7/15\n",
      "500/500 [==============================] - 0s 652us/step - loss: 4022410122156.1997\n",
      "Epoch 8/15\n",
      "500/500 [==============================] - 0s 567us/step - loss: 3928042494250.4111\n",
      "Epoch 9/15\n",
      "500/500 [==============================] - 0s 560us/step - loss: 3824329255888.9902\n",
      "Epoch 10/15\n",
      "500/500 [==============================] - 0s 564us/step - loss: 3653266726143.4893\n",
      "Epoch 11/15\n",
      "500/500 [==============================] - 0s 529us/step - loss: 3475869949706.7305\n",
      "Epoch 12/15\n",
      "500/500 [==============================] - 0s 549us/step - loss: 3112395003809.9800\n",
      "Epoch 13/15\n",
      "500/500 [==============================] - 0s 555us/step - loss: 2381823845643.7524\n",
      "Epoch 14/15\n",
      "500/500 [==============================] - 0s 558us/step - loss: 1290419129901.9880\n",
      "Epoch 15/15\n",
      "500/500 [==============================] - 0s 542us/step - loss: 404205577483.7525\n"
     ]
    }
   ],
   "source": [
    "x = -50 + np.random.random((25000,1))*100\n",
    "\n",
    "#define the function\n",
    "y = -2*x**4 - 7*x**3 + x**2 + 6*x - 2\n",
    "\n",
    "# Define model\n",
    "model = Sequential()\n",
    "model.add(Dense(40, input_dim=1, activation='relu'))\n",
    "model.add(Dense(20, activation='relu'))\n",
    "model.add(Dense(20, activation='relu'))\n",
    "model.add(Dense(20, activation='relu'))\n",
    "model.add(Dense(20, activation='relu'))\n",
    "model.add(Dense(1))\n",
    "model.compile(loss='mean_squared_error', optimizer='adam')\n",
    "model.fit(x, y, epochs=15, batch_size=50)\n",
    "predictions = model.predict(x)"
   ]
  },
  {
   "cell_type": "code",
   "execution_count": 74,
   "metadata": {},
   "outputs": [
    {
     "data": {
      "image/png": "[encoded data removed]",
      "text/plain": [
       "<Figure size 432x288 with 2 Axes>"
      ]
     },
     "metadata": {
      "needs_background": "light"
     },
     "output_type": "display_data"
    }
   ],
   "source": [
    "import matplotlib.pyplot as plt\n",
    "plt.subplot(2, 1, 1)\n",
    "plt.scatter(x, y, s = 1)\n",
    "plt.title('y = $-2x^4-7x^3+x^2+6x-2$')\n",
    "plt.ylabel('Real y')\n",
    "\n",
    "plt.subplot(2, 1, 2)\n",
    "plt.scatter(x, predictions, s = 1)\n",
    "plt.xlabel('x')\n",
    "plt.ylabel('Approximated y')\n",
    "\n",
    "plt.show()"
   ]
  },
  {
   "cell_type": "code",
   "execution_count": 75,
   "metadata": {},
   "outputs": [
    {
     "name": "stdout",
     "output_type": "stream",
     "text": [
      "Results of sklearn.metrics:\n",
      "MAE: 230636.0146596246\n",
      "MSE: 168002694843.26065\n",
      "RMSE: 409881.3179973694\n",
      "R-Squared: 0.9849838616656036\n"
     ]
    }
   ],
   "source": [
    "import sklearn.metrics as metrics\n",
    "mae = metrics.mean_absolute_error(y, predictions)\n",
    "mse = metrics.mean_squared_error(y, predictions)\n",
    "rmse = np.sqrt(mse) #mse**(0.5)  \n",
    "r2 = metrics.r2_score(y,predictions)\n",
    "\n",
    "print(\"Results of sklearn.metrics:\")\n",
    "print(\"MAE:\",mae)\n",
    "print(\"MSE:\", mse)\n",
    "print(\"RMSE:\", rmse)\n",
    "print(\"R-Squared:\", r2)"
   ]
  },
  {
   "cell_type": "markdown",
   "metadata": {},
   "source": [
    "## Part 3"
   ]
  },
  {
   "cell_type": "code",
   "execution_count": 76,
   "metadata": {},
   "outputs": [
    {
     "name": "stdout",
     "output_type": "stream",
     "text": [
      "Epoch 1/15\n",
      "500/500 [==============================] - 0s 525us/step - loss: 0.2869\n",
      "Epoch 2/15\n",
      "500/500 [==============================] - 0s 504us/step - loss: 2.6453e-04\n",
      "Epoch 3/15\n",
      "500/500 [==============================] - 0s 506us/step - loss: 1.7450e-05\n",
      "Epoch 4/15\n",
      "500/500 [==============================] - 0s 494us/step - loss: 1.8608e-04\n",
      "Epoch 5/15\n",
      "500/500 [==============================] - 0s 509us/step - loss: 1.1597e-04\n",
      "Epoch 6/15\n",
      "500/500 [==============================] - 0s 575us/step - loss: 3.0577e-04\n",
      "Epoch 7/15\n",
      "500/500 [==============================] - 0s 507us/step - loss: 3.0435e-06\n",
      "Epoch 8/15\n",
      "500/500 [==============================] - 0s 602us/step - loss: 0.0017\n",
      "Epoch 9/15\n",
      "500/500 [==============================] - 0s 515us/step - loss: 1.2224e-06\n",
      "Epoch 10/15\n",
      "500/500 [==============================] - 0s 497us/step - loss: 2.1030e-04\n",
      "Epoch 11/15\n",
      "500/500 [==============================] - 0s 515us/step - loss: 3.2278e-06\n",
      "Epoch 12/15\n",
      "500/500 [==============================] - 0s 646us/step - loss: 5.1913e-04\n",
      "Epoch 13/15\n",
      "500/500 [==============================] - 0s 528us/step - loss: 6.0062e-06\n",
      "Epoch 14/15\n",
      "500/500 [==============================] - 0s 511us/step - loss: 1.5698e-06\n",
      "Epoch 15/15\n",
      "500/500 [==============================] - 0s 524us/step - loss: 1.0306e-06\n"
     ]
    }
   ],
   "source": [
    "# Load training data\n",
    "x = -50 + np.random.random((25000,1))*100\n",
    "\n",
    "#define the function\n",
    "y = np.tanh(x)\n",
    "\n",
    "# Define model\n",
    "model = Sequential()\n",
    "model.add(Dense(40, input_dim=1, activation='relu'))\n",
    "model.add(Dense(20, activation='relu'))\n",
    "model.add(Dense(10, activation='relu'))\n",
    "model.add(Dense(1))\n",
    "model.compile(loss='mean_squared_error', optimizer='adam')\n",
    "model.fit(x, y, epochs=15, batch_size=50)\n",
    "predictions = model.predict(x)"
   ]
  },
  {
   "cell_type": "code",
   "execution_count": 77,
   "metadata": {},
   "outputs": [
    {
     "data": {
      "image/png": "[encoded data removed]",
      "text/plain": [
       "<Figure size 432x288 with 2 Axes>"
      ]
     },
     "metadata": {
      "needs_background": "light"
     },
     "output_type": "display_data"
    }
   ],
   "source": [
    "import matplotlib.pyplot as plt\n",
    "plt.subplot(2, 1, 1)\n",
    "plt.scatter(x, y, s = 1)\n",
    "plt.title('y = $tanh(x)$')\n",
    "plt.ylabel('Real y')\n",
    "\n",
    "plt.subplot(2, 1, 2)\n",
    "plt.scatter(x, predictions, s = 1)\n",
    "plt.xlabel('x')\n",
    "plt.ylabel('Approximated y')\n",
    "\n",
    "plt.show()"
   ]
  },
  {
   "cell_type": "code",
   "execution_count": 78,
   "metadata": {},
   "outputs": [
    {
     "name": "stdout",
     "output_type": "stream",
     "text": [
      "Results of sklearn.metrics:\n",
      "MAE: 0.0005759882539224561\n",
      "MSE: 1.10216364574683e-06\n",
      "RMSE: 0.0010498398190899553\n",
      "R-Squared: 0.9999988749658241\n"
     ]
    }
   ],
   "source": [
    "import sklearn.metrics as metrics\n",
    "mae = metrics.mean_absolute_error(y, predictions)\n",
    "mse = metrics.mean_squared_error(y, predictions)\n",
    "rmse = np.sqrt(mse) #mse**(0.5)  \n",
    "r2 = metrics.r2_score(y,predictions)\n",
    "\n",
    "print(\"Results of sklearn.metrics:\")\n",
    "print(\"MAE:\",mae)\n",
    "print(\"MSE:\", mse)\n",
    "print(\"RMSE:\", rmse)\n",
    "print(\"R-Squared:\", r2)\n"
   ]
  },
  {
   "cell_type": "markdown",
   "metadata": {},
   "source": []
  },
  {
   "cell_type": "code",
   "execution_count": null,
   "metadata": {},
   "outputs": [],
   "source": []
  }
 ],
 "metadata": {
  "kernelspec": {
   "display_name": "Python 3",
   "language": "python",
   "name": "python3"
  },
  "language_info": {
   "codemirror_mode": {
    "name": "ipython",
    "version": 3
   },
   "file_extension": ".py",
   "mimetype": "text/x-python",
   "name": "python",
   "nbconvert_exporter": "python",
   "pygments_lexer": "ipython3",
   "version": "3.7.6"
  }
 },
 "nbformat": 4,
 "nbformat_minor": 4
}
